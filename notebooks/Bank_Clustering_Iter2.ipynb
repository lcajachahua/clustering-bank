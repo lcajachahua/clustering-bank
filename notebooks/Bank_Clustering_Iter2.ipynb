{
 "cells": [
  {
   "cell_type": "markdown",
   "metadata": {},
   "source": [
    "# Bank Dataset Clustering Algorithms Comparison\n",
    "\n",
    "Involve 10 Models Clustering\n",
    " \n",
    "<br>\n",
    "<br>\n",
    "<font color = 'blue'>\n",
    "<b>Content: </b>\n",
    "\n",
    "1. [Prepare Problems]\n",
    "    * [Load Libraries](#2)\n",
    "    * [Load Dataset](#3)    \n",
    "1. [Models]\n",
    "    * [K-Means](#4)\n",
    "    * [Affinity Propagation](#5)\n",
    "    * [BIRCH](#6)\n",
    "    * [DBSCAN](#7)\n",
    "    * [Mini Batch K-Means](#8)\n",
    "    * [Mean Shift](#9)\n",
    "    * [OPTICS](#10)\n",
    "    * [Spectral Clustering](#11)\n",
    "    * [Gaussian Mixture Model](#12)\n",
    "    * [Agglomerative Clustering](#13)\n",
    "1. [References](#14)"
   ]
  },
  {
   "cell_type": "markdown",
   "metadata": {},
   "source": [
    "<a id = \"2\"></a><br>\n",
    "## Load Libraries"
   ]
  },
  {
   "cell_type": "code",
   "execution_count": null,
   "metadata": {
    "_cell_guid": "b1076dfc-b9ad-4769-8c92-a6c4dae69d19",
    "_uuid": "8f2839f25d086af736a60e9eeb907d3b93b6e0e5"
   },
   "outputs": [],
   "source": [
    "import pandas as pd\n",
    "import matplotlib.pyplot as plt\n",
    "import numpy as np\n",
    "from numpy import unique\n",
    "from numpy import where\n",
    "from sklearn.cluster import KMeans\n",
    "from sklearn.cluster import AffinityPropagation\n",
    "from sklearn.cluster import Birch\n",
    "from sklearn.cluster import DBSCAN\n",
    "from sklearn.cluster import MiniBatchKMeans\n",
    "from sklearn.cluster import MeanShift\n",
    "from sklearn.cluster import OPTICS\n",
    "from sklearn.cluster import SpectralClustering\n",
    "from sklearn.mixture import GaussianMixture\n",
    "from sklearn.cluster import AgglomerativeClustering\n",
    "from sklearn import metrics"
   ]
  },
  {
   "cell_type": "markdown",
   "metadata": {},
   "source": [
    "<a id = \"3\"></a><br>\n",
    "## Load Dataset"
   ]
  },
  {
   "cell_type": "code",
   "execution_count": null,
   "metadata": {
    "_cell_guid": "79c7e3d0-c299-4dcb-8224-4455121ee9b0",
    "_uuid": "d629ff2d2480ee46fbb7e2d37f6b5fab8052498a"
   },
   "outputs": [],
   "source": [
    "data = pd.read_csv('../data/segmentacion.csv', index_col=0)\n",
    "data.head()"
   ]
  },
  {
   "cell_type": "code",
   "execution_count": null,
   "metadata": {},
   "outputs": [],
   "source": [
    "data.drop(['TotAmt'], axis=1, inplace=True)\n",
    "data.drop(['TotTrans'], axis=1, inplace=True)\n",
    "\n",
    "data.head()"
   ]
  },
  {
   "cell_type": "code",
   "execution_count": null,
   "metadata": {},
   "outputs": [],
   "source": [
    "from sklearn.decomposition import PCA\n",
    "pca_bank = PCA(n_components=3)\n",
    "principalComponents_bank = pca_bank.fit_transform(data)\n",
    "principal_bank_Df = pd.DataFrame(data = principalComponents_bank\n",
    "             , columns = ['principal component 1', 'principal component 2', 'principal component 3'])\n",
    "principal_bank_Df.head()"
   ]
  },
  {
   "cell_type": "markdown",
   "metadata": {},
   "source": [
    "<a id = \"4\"></a><br>\n",
    "## 1 - K-Means "
   ]
  },
  {
   "cell_type": "code",
   "execution_count": null,
   "metadata": {},
   "outputs": [],
   "source": [
    "k_means = KMeans(n_clusters=5)\n",
    "k_means.fit(data)"
   ]
  },
  {
   "cell_type": "markdown",
   "metadata": {},
   "source": [
    "### Labels"
   ]
  },
  {
   "cell_type": "code",
   "execution_count": null,
   "metadata": {},
   "outputs": [],
   "source": [
    "np.unique(k_means.labels_)"
   ]
  },
  {
   "cell_type": "code",
   "execution_count": null,
   "metadata": {},
   "outputs": [],
   "source": [
    "centers = k_means.cluster_centers_\n",
    "centers"
   ]
  },
  {
   "cell_type": "code",
   "execution_count": null,
   "metadata": {},
   "outputs": [],
   "source": [
    "plt.figure(figsize=(16, 9))\n",
    "plt.scatter(principal_bank_Df['principal component 1'], \n",
    "            principal_bank_Df['principal component 2'], \n",
    "            c=k_means.labels_, s=100)\n",
    "plt.scatter(centers[:,0], centers[:,1], color='blue', marker='s', s=200) \n",
    "plt.xlabel('CP1')\n",
    "plt.ylabel('CP2')\n",
    "plt.title('K-Means with 5 clusters')\n",
    "plt.ylim(-1.2,1)\n",
    "plt.xlim(-1,1.5)\n",
    "plt.grid()\n",
    "plt.show()"
   ]
  },
  {
   "cell_type": "code",
   "execution_count": null,
   "metadata": {},
   "outputs": [],
   "source": [
    "wscc = []\n",
    "for i in range(4,15): \n",
    "    kmeans = KMeans(n_clusters=i, init=\"k-means++\",random_state=0)\n",
    "    kmeans.fit(data)\n",
    "    wscc.append(kmeans.inertia_)  \n",
    "\n",
    "plt.plot(range(4,15),wscc,marker=\"*\",c=\"black\")\n",
    "plt.title(\"Elbow plot for optimal number of clusters\")"
   ]
  },
  {
   "cell_type": "markdown",
   "metadata": {},
   "source": [
    "### KMeans clustering with 10 clusters"
   ]
  },
  {
   "cell_type": "code",
   "execution_count": null,
   "metadata": {},
   "outputs": [],
   "source": [
    "k_means = KMeans(n_clusters=10)\n",
    "k_means.fit(data)"
   ]
  },
  {
   "cell_type": "code",
   "execution_count": null,
   "metadata": {},
   "outputs": [],
   "source": [
    "np.unique(k_means.labels_)"
   ]
  },
  {
   "cell_type": "code",
   "execution_count": null,
   "metadata": {},
   "outputs": [],
   "source": [
    "centers = k_means.cluster_centers_"
   ]
  },
  {
   "cell_type": "markdown",
   "metadata": {},
   "source": [
    "Displaying Data in 10 clusters "
   ]
  },
  {
   "cell_type": "code",
   "execution_count": null,
   "metadata": {},
   "outputs": [],
   "source": [
    "plt.figure(figsize=(16, 9))\n",
    "plt.scatter(principal_bank_Df['principal component 1'], \n",
    "            principal_bank_Df['principal component 2'], \n",
    "            c=k_means.labels_, s=100)\n",
    "plt.scatter(centers[:,0], centers[:,1], color='blue', marker='s', s=200) \n",
    "plt.xlabel('CP1')\n",
    "plt.ylabel('CP2')\n",
    "plt.title('K-Means with 10 clusters')\n",
    "plt.ylim(-1.2,1)\n",
    "plt.xlim(-1,1.5)\n",
    "plt.grid()\n",
    "plt.show()"
   ]
  },
  {
   "cell_type": "code",
   "execution_count": null,
   "metadata": {},
   "outputs": [],
   "source": [
    "score_kmeans = metrics.silhouette_score(data,k_means.labels_)\n",
    "\n",
    "print(\"Score of K-Means = \", score_kmeans)"
   ]
  },
  {
   "cell_type": "markdown",
   "metadata": {},
   "source": [
    "<a id = \"5\"></a><br>\n",
    "## 2 - Affinity Propagation\n",
    "Affinity Propagation involves finding a set of exemplars that best summarize the data."
   ]
  },
  {
   "cell_type": "code",
   "execution_count": null,
   "metadata": {},
   "outputs": [],
   "source": [
    "model_aff = AffinityPropagation(damping=0.95)\n",
    "model_aff.fit(data)\n",
    "#\n",
    "yhat_aff = model_aff.predict(data)\n",
    "clusters_aff = unique(yhat_aff)\n",
    "print(\"Clusters of Affinity Prop.\",clusters_aff)\n",
    "labels_aff = model_aff.labels_\n",
    "centroids_aff = model_aff.cluster_centers_"
   ]
  },
  {
   "cell_type": "code",
   "execution_count": null,
   "metadata": {},
   "outputs": [],
   "source": [
    "plt.figure(figsize=(16, 9))\n",
    "\n",
    "plt.scatter(principal_bank_Df['principal component 1'], \n",
    "            principal_bank_Df['principal component 2'], \n",
    "            c=labels_aff, s=100)\n",
    "plt.scatter(centroids_aff[:,0], centroids_aff[:,1], color='red', marker='*', s=200) \n",
    "plt.xlabel('CP1')\n",
    "plt.ylabel('CP2')\n",
    "plt.title('Affinity Propagation')\n",
    "plt.ylim(-1.2,1)\n",
    "plt.xlim(-1,1.5)\n",
    "plt.grid()\n",
    "plt.show()"
   ]
  },
  {
   "cell_type": "code",
   "execution_count": null,
   "metadata": {},
   "outputs": [],
   "source": [
    "score_aff = metrics.silhouette_score(data,labels_aff)\n",
    "\n",
    "print(\"Score of Affinity Propagation = \", score_aff)"
   ]
  },
  {
   "cell_type": "markdown",
   "metadata": {},
   "source": [
    "<a id = \"6\"></a><br>\n",
    "## 3 - BIRCH\n",
    "BIRCH Clustering (BIRCH is short for Balanced Iterative Reducing and Clustering using\n",
    "Hierarchies) involves constructing a tree structure from which cluster centroids are extracted."
   ]
  },
  {
   "cell_type": "code",
   "execution_count": null,
   "metadata": {},
   "outputs": [],
   "source": [
    "model_br = Birch(threshold=0.01, n_clusters=10)\n",
    "model_br.fit(data)\n",
    "#\n",
    "yhat_br = model_br.predict(data)\n",
    "clusters_br = unique(yhat_br)\n",
    "print(\"Clusters of Birch\",clusters_br)\n",
    "labels_br = model_br.labels_"
   ]
  },
  {
   "cell_type": "code",
   "execution_count": null,
   "metadata": {},
   "outputs": [],
   "source": [
    "plt.figure(figsize=(16, 9))\n",
    "plt.scatter(principal_bank_Df['principal component 1'], \n",
    "            principal_bank_Df['principal component 2'], \n",
    "            c=model_br.labels_, s=100)\n",
    "plt.xlabel('CP1')\n",
    "plt.ylabel('CP2')\n",
    "plt.title('BIRCH with 10 clusters')\n",
    "plt.ylim(-1.2,1)\n",
    "plt.xlim(-1,1.5)\n",
    "plt.grid()\n",
    "plt.show()"
   ]
  },
  {
   "cell_type": "code",
   "execution_count": null,
   "metadata": {},
   "outputs": [],
   "source": [
    "score_br = metrics.silhouette_score(data,labels_br)\n",
    "\n",
    "print(\"Score of Birch = \", score_br)"
   ]
  },
  {
   "cell_type": "markdown",
   "metadata": {},
   "source": [
    "<a id = \"7\"></a><br>\n",
    "## 4- DBSCAN"
   ]
  },
  {
   "cell_type": "markdown",
   "metadata": {},
   "source": [
    "DBSCAN Clustering (where DBSCAN is short for Density-Based Spatial Clustering of Applications with Noise) involves finding high-density areas in the domain and expanding those areas of the feature space around them as clusters."
   ]
  },
  {
   "cell_type": "code",
   "execution_count": null,
   "metadata": {},
   "outputs": [],
   "source": [
    "# dbscan clustering\n",
    "from numpy import unique\n",
    "from numpy import where\n",
    "data_X = data.iloc[:,0:23].values"
   ]
  },
  {
   "cell_type": "code",
   "execution_count": null,
   "metadata": {},
   "outputs": [],
   "source": [
    "# define the model\n",
    "model = DBSCAN(eps=0.7, min_samples=90)\n",
    "# fit model and predict clusters\n",
    "yhat = model.fit_predict(data_X)\n",
    "# retrieve unique clusters\n",
    "clusters = unique(yhat)"
   ]
  },
  {
   "cell_type": "code",
   "execution_count": null,
   "metadata": {},
   "outputs": [],
   "source": [
    "plt.figure(figsize=(16, 9))\n",
    "plt.scatter(principal_bank_Df['principal component 1'], \n",
    "            principal_bank_Df['principal component 2'], \n",
    "            c=yhat, s=100)\n",
    "plt.xlabel('CP1')\n",
    "plt.ylabel('CP2')\n",
    "plt.title('DBSCAN Clustering')\n",
    "plt.ylim(-1.2,1)\n",
    "plt.xlim(-1,1.5)\n",
    "plt.grid()\n",
    "plt.show()"
   ]
  },
  {
   "cell_type": "code",
   "execution_count": null,
   "metadata": {},
   "outputs": [],
   "source": [
    "score_dbs = metrics.silhouette_score(data,yhat)\n",
    "\n",
    "print(\"Score of DBSCAN = \", score_dbs)"
   ]
  },
  {
   "cell_type": "markdown",
   "metadata": {},
   "source": [
    "<a id = \"8\"></a><br>\n",
    "## 5 - Mini Batch K-Means"
   ]
  },
  {
   "cell_type": "markdown",
   "metadata": {},
   "source": [
    "Mini-Batch K-Means is a modified version of k-means that makes updates to the cluster centroids using mini-batches of samples rather than the entire dataset, which can make it faster for large datasets, and perhaps more robust to statistical noise."
   ]
  },
  {
   "cell_type": "code",
   "execution_count": null,
   "metadata": {},
   "outputs": [],
   "source": [
    "model_mini = MiniBatchKMeans(n_clusters=10)\n",
    "model_mini.fit(data)\n",
    "#\n",
    "yhat_mini = model_mini.predict(data)\n",
    "clusters_mini = unique(yhat_mini)\n",
    "print(\"Clusters of Mini Batch KMeans.\",clusters_mini)\n",
    "labels_mini = model_mini.labels_\n",
    "centroids_mini = model_mini.cluster_centers_"
   ]
  },
  {
   "cell_type": "code",
   "execution_count": null,
   "metadata": {},
   "outputs": [],
   "source": [
    "wscc = []\n",
    "for i in range(4,15): \n",
    "    mkmeans = MiniBatchKMeans(n_clusters=i, init=\"k-means++\",random_state=0)\n",
    "    mkmeans.fit(data)\n",
    "    wscc.append(mkmeans.inertia_)  \n",
    "\n",
    "plt.plot(range(4,15),wscc,marker=\"*\",c=\"black\")\n",
    "plt.title(\"Elbow plot for Mini Batch KMeans\")"
   ]
  },
  {
   "cell_type": "code",
   "execution_count": null,
   "metadata": {},
   "outputs": [],
   "source": [
    "model_mini = MiniBatchKMeans(n_clusters=9)\n",
    "model_mini.fit(data)\n",
    "#\n",
    "yhat_mini = model_mini.predict(data)\n",
    "clusters_mini = unique(yhat_mini)\n",
    "print(\"Clusters of Mini Batch KMeans.\",clusters_mini)\n",
    "labels_mini = model_mini.labels_\n",
    "centroids_mini = model_mini.cluster_centers_"
   ]
  },
  {
   "cell_type": "code",
   "execution_count": null,
   "metadata": {},
   "outputs": [],
   "source": [
    "plt.figure(figsize=(16, 9))\n",
    "plt.scatter(principal_bank_Df['principal component 1'], \n",
    "            principal_bank_Df['principal component 2'], \n",
    "            c=labels_mini, s=100)\n",
    "plt.scatter(centroids_mini[:,0], centroids_mini[:,1], color='red', marker='*', s=200) \n",
    "plt.xlabel('CP1')\n",
    "plt.ylabel('CP2')\n",
    "plt.title('Mini Batch KMeans')\n",
    "plt.ylim(-1.2,1)\n",
    "plt.xlim(-1,1.5)\n",
    "plt.grid()\n",
    "plt.show()"
   ]
  },
  {
   "cell_type": "code",
   "execution_count": null,
   "metadata": {},
   "outputs": [],
   "source": [
    "score_mini = metrics.silhouette_score(data,labels_mini)\n",
    "\n",
    "print(\"Score of Mini Batch = \", score_mini)"
   ]
  },
  {
   "cell_type": "markdown",
   "metadata": {},
   "source": [
    "<a id = \"9\"></a><br>\n",
    "## 6 - Mean Shift"
   ]
  },
  {
   "cell_type": "markdown",
   "metadata": {},
   "source": [
    "Mean shift clustering involves finding and adapting centroids based on the density of examples in the feature space."
   ]
  },
  {
   "cell_type": "code",
   "execution_count": null,
   "metadata": {},
   "outputs": [],
   "source": [
    "model_ms = MeanShift(bandwidth=25)\n",
    "model_ms.fit(data)\n",
    "#\n",
    "yhat_ms = model_ms.predict(data)\n",
    "clusters_ms = unique(yhat_ms)\n",
    "print(\"Clusters of Mean Shift.\",clusters_ms)\n",
    "labels_ms = model_ms.labels_\n",
    "centroids_ms = model_ms.cluster_centers_"
   ]
  },
  {
   "cell_type": "code",
   "execution_count": null,
   "metadata": {},
   "outputs": [],
   "source": [
    "plt.figure(figsize=(16, 9))\n",
    "plt.scatter(principal_bank_Df['principal component 1'], \n",
    "            principal_bank_Df['principal component 2'], \n",
    "            c=labels_ms, s=100)\n",
    "plt.scatter(centroids_ms[:,0], centroids_ms[:,1], color='red', marker='*', s=200) \n",
    "plt.xlabel('CP1')\n",
    "plt.ylabel('CP2')\n",
    "plt.title('Mean Shift')\n",
    "plt.ylim(-1.2,1)\n",
    "plt.xlim(-1,1.5)\n",
    "plt.grid()\n",
    "plt.show()"
   ]
  },
  {
   "cell_type": "code",
   "execution_count": null,
   "metadata": {},
   "outputs": [],
   "source": [
    "score_ms = metrics.silhouette_score(data,labels_ms)\n",
    "\n",
    "print(\"Score of Mean Shift = \", score_ms)"
   ]
  },
  {
   "cell_type": "markdown",
   "metadata": {},
   "source": [
    "<a id = \"10\"></a><br>\n",
    "## 7 - OPTICS"
   ]
  },
  {
   "cell_type": "markdown",
   "metadata": {},
   "source": [
    "OPTICS clustering (where OPTICS is short for Ordering Points To Identify the Clustering Structure) is a modified version of DBSCAN described above.\n"
   ]
  },
  {
   "cell_type": "code",
   "execution_count": null,
   "metadata": {},
   "outputs": [],
   "source": [
    "model_op = OPTICS(eps=0.8, min_samples=10)\n",
    "#\n",
    "yhat_op = model_op.fit_predict(data)\n",
    "clusters_op = unique(yhat_op)\n",
    "print(\"Clusters OPTICS.\",clusters_op)\n",
    "labels_op = model_op.labels_"
   ]
  },
  {
   "cell_type": "code",
   "execution_count": null,
   "metadata": {},
   "outputs": [],
   "source": [
    "score_op = metrics.silhouette_score(data,labels_op)\n",
    "\n",
    "print(\"Score of Mean Shift = \", score_op)"
   ]
  },
  {
   "cell_type": "markdown",
   "metadata": {},
   "source": [
    "<a id = \"11\"></a><br>\n",
    "## 8 - Spectral Clustering"
   ]
  },
  {
   "cell_type": "markdown",
   "metadata": {},
   "source": [
    "Spectral Clustering is a general class of clustering methods, drawn from linear algebra."
   ]
  },
  {
   "cell_type": "code",
   "execution_count": null,
   "metadata": {},
   "outputs": [],
   "source": [
    "model_sc = SpectralClustering(n_clusters=10)\n",
    "#\n",
    "yhat_sc = model_sc.fit_predict(data)\n",
    "clusters_sc = unique(yhat_sc)\n",
    "print(\"Clusters Spectral\",clusters_sc)\n",
    "labels_sc = model_sc.labels_"
   ]
  },
  {
   "cell_type": "code",
   "execution_count": null,
   "metadata": {},
   "outputs": [],
   "source": [
    "plt.figure(figsize=(16, 9))\n",
    "plt.scatter(principal_bank_Df['principal component 1'], \n",
    "            principal_bank_Df['principal component 2'], \n",
    "            c=labels_sc, s=100)\n",
    "plt.xlabel('CP1')\n",
    "plt.ylabel('CP2')\n",
    "plt.title('Spectral Clustering')\n",
    "plt.ylim(-1.2,1)\n",
    "plt.xlim(-1,1.5)\n",
    "plt.grid()\n",
    "plt.show()"
   ]
  },
  {
   "cell_type": "code",
   "execution_count": null,
   "metadata": {},
   "outputs": [],
   "source": [
    "score_sc = metrics.silhouette_score(data,labels_sc)\n",
    "\n",
    "print(\"Score of Spectral = \", score_sc)"
   ]
  },
  {
   "cell_type": "markdown",
   "metadata": {},
   "source": [
    "<a id = \"12\"></a><br>\n",
    "## 9 - Gaussian Mixture Model"
   ]
  },
  {
   "cell_type": "markdown",
   "metadata": {},
   "source": [
    "A Gaussian mixture model summarizes a multivariate probability density function with a mixture of Gaussian probability distributions as its name suggests."
   ]
  },
  {
   "cell_type": "code",
   "execution_count": null,
   "metadata": {},
   "outputs": [],
   "source": [
    "model_gb = GaussianMixture(n_components=10)\n",
    "model_gb.fit(data)\n",
    "#\n",
    "yhat_gb = model_gb.predict(data)\n",
    "clusters_gb = unique(yhat_gb)"
   ]
  },
  {
   "cell_type": "code",
   "execution_count": null,
   "metadata": {},
   "outputs": [],
   "source": [
    "plt.figure(figsize=(16, 9))\n",
    "plt.scatter(principal_bank_Df['principal component 1'], \n",
    "            principal_bank_Df['principal component 2'], \n",
    "            c=yhat_gb, s=100)\n",
    "plt.xlabel('CP1')\n",
    "plt.ylabel('CP2')\n",
    "plt.title('Gaussian Mixture Model')\n",
    "plt.ylim(-1.2,1)\n",
    "plt.xlim(-1,1.5)\n",
    "plt.grid()\n",
    "plt.show()"
   ]
  },
  {
   "cell_type": "code",
   "execution_count": null,
   "metadata": {},
   "outputs": [],
   "source": [
    "score_gmm = metrics.silhouette_score(data,yhat_gb)\n",
    "\n",
    "print(\"Score of GMM = \", score_gmm)"
   ]
  },
  {
   "cell_type": "markdown",
   "metadata": {},
   "source": [
    "<a id = \"13\"></a><br>\n",
    "## 10 - Agglomerative Clustering"
   ]
  },
  {
   "cell_type": "markdown",
   "metadata": {},
   "source": [
    "Agglomerative clustering involves merging examples until the desired number of clusters is achieved."
   ]
  },
  {
   "cell_type": "code",
   "execution_count": null,
   "metadata": {},
   "outputs": [],
   "source": [
    "model_agg = AgglomerativeClustering(n_clusters=10)\n",
    "#\n",
    "yhat_agg = model_agg.fit_predict(data)\n",
    "clusters_agg = unique(yhat_agg)\n",
    "print(\"Clusters of Agglomerative Clustering\",clusters_agg)\n",
    "labels_agg = model_agg.labels_"
   ]
  },
  {
   "cell_type": "code",
   "execution_count": null,
   "metadata": {},
   "outputs": [],
   "source": [
    "plt.figure(figsize=(16, 9))\n",
    "plt.scatter(principal_bank_Df['principal component 1'], \n",
    "            principal_bank_Df['principal component 2'], \n",
    "            c=labels_agg, s=100)\n",
    "plt.xlabel('CP1')\n",
    "plt.ylabel('CP2')\n",
    "plt.title('Agglomerative Clustering')\n",
    "plt.ylim(-1.2,1)\n",
    "plt.xlim(-1,1.5)\n",
    "plt.grid()\n",
    "plt.show()"
   ]
  },
  {
   "cell_type": "code",
   "execution_count": null,
   "metadata": {},
   "outputs": [],
   "source": [
    "score_agg = metrics.silhouette_score(data,labels_agg)\n",
    "\n",
    "print(\"Score of Agglomerative Clustering = \", score_agg)"
   ]
  },
  {
   "cell_type": "markdown",
   "metadata": {},
   "source": [
    "<a id = \"14\"></a><br>\n",
    "## References"
   ]
  },
  {
   "cell_type": "markdown",
   "metadata": {},
   "source": [
    "* https://machinelearningmastery.com/clustering-algorithms-with-python/"
   ]
  }
 ],
 "metadata": {
  "kernelspec": {
   "display_name": "Python 3",
   "language": "python",
   "name": "python3"
  },
  "language_info": {
   "codemirror_mode": {
    "name": "ipython",
    "version": 3
   },
   "file_extension": ".py",
   "mimetype": "text/x-python",
   "name": "python",
   "nbconvert_exporter": "python",
   "pygments_lexer": "ipython3",
   "version": "3.8.8"
  }
 },
 "nbformat": 4,
 "nbformat_minor": 4
}
